{
    "metadata": {
        "kernelspec": {
            "name": "python3",
            "display_name": "Python 3 (ipykernel)",
            "language": "python"
        }
    },
    "nbformat": 4,
    "nbformat_minor": 2,
    "cells": [
        {
            "attachments": {},
            "cell_type": "markdown",
            "metadata": {},
            "source": [
                "**Question 1**\n",
                "\n",
                "Please enter your last **4 ASUID** and **training accuracy** here in the function."
            ]
        },
        {
            "cell_type": "code",
            "execution_count": 0,
            "metadata": {},
            "outputs": [],
            "source": [
                "### TEST FUNCTION: test_question1\n",
                "# DO NOT REMOVE OR MODIFY THE LINE ABOVE\n",
                "def train_accuracy():\n",
                "    id = '0406' # your ASUID\n",
                "    acc = 0.775\n",
                "    return [id, acc]"
            ]
        },
        {
            "attachments": {},
            "cell_type": "markdown",
            "metadata": {},
            "source": [
                "**Question 2**\n",
                "\n",
                "Please enter your last **4 ASUID** and the **training loss** here in the function."
            ]
        },
        {
            "cell_type": "code",
            "execution_count": 0,
            "metadata": {},
            "outputs": [],
            "source": [
                "### TEST FUNCTION: test_question2\n",
                "# DO NOT REMOVE OR MODIFY THE LINE ABOVE\n",
                "def train_loss():\n",
                "    id = '0406' # your ASUID\n",
                "    loss = 0.587\n",
                "    return [id,loss]"
            ]
        },
        {
            "attachments": {},
            "cell_type": "markdown",
            "metadata": {},
            "source": [
                "**Question 3**\n",
                "\n",
                "Please enter your last **4 ASUID** and the **testing accuracy** here in the function."
            ]
        },
        {
            "cell_type": "code",
            "execution_count": 0,
            "metadata": {},
            "outputs": [],
            "source": [
                "### TEST FUNCTION: test_question3\n",
                "# DO NOT REMOVE OR MODIFY THE LINE ABOVE\n",
                "def test_accuracy():\n",
                "    id = '0406' # your ASUID\n",
                "    acc = 0.760\n",
                "    return [id,acc]"
            ]
        },
        {
            "attachments": {},
            "cell_type": "markdown",
            "metadata": {},
            "source": [
                "**Question 4**\n",
                "\n",
                "Please enter your last **4 ASUID** and the **testing loss** here in the function."
            ]
        },
        {
            "cell_type": "code",
            "execution_count": 0,
            "metadata": {},
            "outputs": [],
            "source": [
                "### TEST FUNCTION: test_question4\n",
                "# DO NOT REMOVE OR MODIFY THE LINE ABOVE\n",
                "def test_loss():\n",
                "    id = '0406' # your ASUID\n",
                "    loss = 0.650\n",
                "    return [id,loss]"
            ]
        }
    ]
}
